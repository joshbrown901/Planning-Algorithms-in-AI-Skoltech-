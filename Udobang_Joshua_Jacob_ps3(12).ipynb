{
 "cells": [
  {
   "cell_type": "markdown",
   "metadata": {},
   "source": [
    "**PROBLEM SET 3**"
   ]
  },
  {
   "cell_type": "code",
   "execution_count": 6,
   "metadata": {
    "colab": {
     "base_uri": "https://localhost:8080/",
     "height": 810
    },
    "id": "VlZaZX-yN7is",
    "outputId": "37f696f6-7bda-4119-ce24-d237f1528529"
   },
   "outputs": [
    {
     "data": {
      "image/png": "[encoded data removed]",
      "text/plain": [
       "<Figure size 288x288 with 1 Axes>"
      ]
     },
     "metadata": {
      "needs_background": "light"
     },
     "output_type": "display_data"
    }
   ],
   "source": [
    "import numpy as np\n",
    "import matplotlib.pyplot as plt\n",
    "from utils import plot_enviroment, action_space, transition_function,probabilistic_transition_function\n",
    "from vi import vi, policy_vi\n",
    "from mdp import mdp, policy_mdp\n",
    "import vi\n",
    "data = np.load('data_ps3.npz')\n",
    "environment = data['environment']\n",
    "x_ini = (11,6)\n",
    "goal = (15,29)\n",
    "im = plot_enviroment(environment,x_ini,goal)\n",
    "plt.matshow(im)\n",
    "plt.show()"
   ]
  },
  {
   "cell_type": "code",
   "execution_count": 7,
   "metadata": {
    "id": "M4yimk1JUJwO"
   },
   "outputs": [],
   "source": [
    "import numpy as np\n",
    "import matplotlib.pyplot as plt\n",
    "import matplotlib.animation as animation\n",
    "action_space = []\n",
    "action_space.append((-1,0))\n",
    "action_space.append((0,-1))\n",
    "action_space.append((1,0))\n",
    "action_space.append((0,1))\n",
    "def plot_enviroment(env, x, goal):\n",
    "    \"\"\"\n",
    "    env is the grid enviroment\n",
    "    x is the state\n",
    "    \"\"\"\n",
    "    dims = env.shape\n",
    "    current_env = np.copy(env)\n",
    "    current_env[x] = 1.0 \n",
    "    current_env[goal] = 0.3\n",
    "    return current_env"
   ]
  },
  {
   "cell_type": "code",
   "execution_count": 8,
   "metadata": {
    "id": "_wfuqV-rUU1y"
   },
   "outputs": [],
   "source": [
    "def state_consistency_check(env,x):\n",
    "    \"\"\"Checks wether or not the proposed state is a valid state, i.e. is in colision or our of bounds\"\"\"\n",
    "    \n",
    "    if x[0] < 0 or x[1] < 0 or x[0] >= env.shape[0] or x[1] >= env.shape[1] :\n",
    "        return False\n",
    "    if env[x] >= 1.0-1e-4:\n",
    "        return False\n",
    "    return True\n"
   ]
  },
  {
   "cell_type": "code",
   "execution_count": 9,
   "metadata": {
    "id": "jYEXK3lpUhIP"
   },
   "outputs": [],
   "source": [
    "def transition_function(env,x,u):\n",
    "    \"\"\"Transition function for states in this problem\n",
    "    x: current state, this is a tuple (i,j)\n",
    "    u: current action, this is a tuple (i,j)\n",
    "    env: enviroment\n",
    "\n",
    "    Output:\n",
    "    new state\n",
    "    True if correctly propagated\n",
    "    False if this action can't be executed\n",
    "    \"\"\"\n",
    "    xnew = np.array(x) + np.array(u)\n",
    "    xnew = tuple(xnew)\n",
    "    if state_consistency_check(env,xnew):\n",
    "        return xnew, True\n",
    "    return x, False"
   ]
  },
  {
   "cell_type": "code",
   "execution_count": 10,
   "metadata": {
    "id": "A974zRiTUpWt"
   },
   "outputs": [],
   "source": [
    "def probabilistic_transition_function(env,x,u, epsilon = 0.6):\n",
    "    \"\"\"Probabilistic Transition function requires:\n",
    "    x: current state, this is a tuple (i,j)\n",
    "    u: current action, this is a tuple (i,j)\n",
    "    env: enviroment\n",
    "    epsilon (in [0,1]): This is the probability of carrying out the desired action, in the extreme, 1 indicates a perfect action execution.\n",
    "\n",
    "    Output:\n",
    "    state_propagated_list: list of propagated states\n",
    "    prob_list: list of the corresponding state's prob, in the same order\n",
    "    \"\"\"\n",
    "    state_propagated_list = []\n",
    "    prob_list = []\n",
    "    for action in action_space:\n",
    "        xnew = np.array(x) + np.array(action)\n",
    "        xnew = tuple(xnew)\n",
    "        prob = (1-epsilon)/3\n",
    "        if action == u:\n",
    "            prob = epsilon\n",
    "        state_propagated_list.append(xnew)\n",
    "        prob_list.append(prob)\n",
    "    return state_propagated_list, prob_list"
   ]
  },
  {
   "cell_type": "markdown",
   "metadata": {},
   "source": [
    "**TASK 1A** (2 pts) Enumerate the action space. The coordinates of actions are u = (row, column)."
   ]
  },
  {
   "cell_type": "code",
   "execution_count": 11,
   "metadata": {
    "colab": {
     "base_uri": "https://localhost:8080/"
    },
    "id": "RoOLXnoL4i7-",
    "outputId": "f28ce577-49f9-4d12-def7-d8878a40b457"
   },
   "outputs": [
    {
     "name": "stdout",
     "output_type": "stream",
     "text": [
      "The list of actions are:  [(-1, 0), (0, -1), (1, 0), (0, 1)]\n"
     ]
    }
   ],
   "source": [
    "import numpy as np\n",
    "import matplotlib.pyplot as plt\n",
    "import utils\n",
    "import mdp\n",
    "import vi\n",
    "\n",
    "print(\"The list of actions are: \",action_space)"
   ]
  },
  {
   "cell_type": "markdown",
   "metadata": {
    "id": "W-elqEvv83zB"
   },
   "source": [
    "**TASK 1B**  (3 pts) Formulate mathematically the optimal cost-to-go G∗\n",
    "(x) in recursive form."
   ]
  },
  {
   "cell_type": "markdown",
   "metadata": {
    "id": "tkknhzv7DQya"
   },
   "source": [
    "To formulate the optimal cost-to-go function $G(x)$ in recursive form, we can use the Bellman equation. The Bellman equation expresses the optimal value of being in state x as the maximum value of the immediate cost plus the minimum value of the expected cost-to-go from the next states.\n",
    "\n",
    "Mathematically, the optimal cost-to-go $G(x)$ is defined as:\n",
    "\n",
    "$G(x) = min [c(x, u) + ∑ P_r ({x' | x, u}) G(x')]$\n",
    "\n",
    "where:\n",
    "- $G(x)$ is the optimal cost-to-go from state $x$.\n",
    "- $c(x, u)$ is the immediate cost of taking action $u$ in state $x$.\n",
    "- $P_r({x' | x, u})$ is the probability of transitioning to state $x'$ from state $x$ when taking action $u$.\n",
    "- $G(x')$ is the optimal cost-to-go from state $x'$.\n",
    "\n",
    "This recursive equation represents the optimal cost-to-go as the minimum cost of taking an action in the current state, plus the expected cost-to-go from all possible next states weighted by their transition probabilities.\n",
    "\n",
    "To calculate the optimal cost-to-go for all states, we can iterate over all states $x$ and update $G(x)$ using the Bellman equation until it converges."
   ]
  },
  {
   "cell_type": "markdown",
   "metadata": {
    "id": "0Cv7-UJ3EUtK"
   },
   "source": [
    "**TASK 1C**  (20 pts) Implement the VI algorithm for infinite length sequences. To show this, you are asked to include a\n",
    "picture of the final G∗\n",
    "(using imshow() for instance).\n",
    "The cost of traversing each node l(x, u) = 1 only if propagation is possible (there is not obstacle or out of\n",
    "bounds).\n",
    "Hint: You can implement a convergence criterion or simply run for a large number of iteration, say 100.\n",
    "Both options will be correct."
   ]
  },
  {
   "cell_type": "code",
   "execution_count": 12,
   "metadata": {
    "id": "IOd2jMswyeN7"
   },
   "outputs": [],
   "source": [
    "import numpy as np\n",
    "import matplotlib.pyplot as plt\n",
    "import matplotlib.animation as animation\n",
    "from utils import plot_enviroment, action_space, transition_function\n",
    "from vi import vi, policy_vi\n",
    "from mdp import mdp, policy_mdp\n",
    "\n",
    "data = np.load('data_ps3.npz')\n",
    "environment = data['environment']\n",
    "\n",
    "x_ini = (11,6)\n",
    "goal = (15,29)\n"
   ]
  },
  {
   "cell_type": "code",
   "execution_count": 13,
   "metadata": {
    "id": "GwM1AfAaETr0"
   },
   "outputs": [],
   "source": [
    "def transition_function(environment,x,u):\n",
    "    \"\"\"Transition function for states in this problem\n",
    "    x: current state, this is a tuple (i,j)\n",
    "    u: current action, this is a tuple (i,j)\n",
    "    env: enviroment\n",
    "\n",
    "    Output:\n",
    "    new state\n",
    "    True if correctly propagated\n",
    "    False if this action can't be executed\n",
    "    \"\"\"\n",
    "    xnew = np.array(x) + np.array(u)\n",
    "    xnew = tuple(xnew)\n",
    "    if state_consistency_check(environment,xnew):\n",
    "        return xnew, True\n",
    "    return x, False\n",
    "\n",
    "def vi(env, goal, gamma=1.0, epsilon=1e-6, max_iterations=100):\n",
    "    \"\"\"\n",
    "    Value Iteration algorithm for infinite-length sequences.\n",
    "    env: The grid environment.\n",
    "    goal: The goal state as (x, y) coordinates.\n",
    "    gamma: Discount factor.\n",
    "    epsilon: Convergence threshold.\n",
    "    max_iterations: Maximum number of iterations.\n",
    "\n",
    "    Returns the optimal cost-to-go matrix G.\n",
    "    \"\"\"\n",
    "    GRID_SIZE = env.shape\n",
    "    action_space = [(0, 1), (0, -1), (1, 0), (-1, 0)]  \n",
    "    G = np.zeros(GRID_SIZE) \n",
    "    for _ in range(max_iterations):\n",
    "        old_G = np.copy(G)\n",
    "        for i in range(GRID_SIZE[0]):\n",
    "            for j in range(GRID_SIZE[1]):\n",
    "                if (i, j) == goal:\n",
    "                    continue  # Skip the goal state\n",
    "                actions_cost = []\n",
    "                for u in action_space:\n",
    "                    xnew, success = transition_function(env, (i, j), u)\n",
    "                    if success:\n",
    "                        xnew_i, xnew_j = xnew\n",
    "                        next_cost = 1.0  # Cost of traversal\n",
    "                        next_cost += gamma * old_G[xnew_i, xnew_j]  # Future cost-to-go\n",
    "                        actions_cost.append(next_cost)\n",
    "                if actions_cost:\n",
    "                    G[i, j] = np.min(actions_cost)\n",
    "        if np.max(np.abs(G - old_G)) < epsilon:\n",
    "            break\n",
    "    return G"
   ]
  },
  {
   "cell_type": "code",
   "execution_count": 14,
   "metadata": {
    "colab": {
     "base_uri": "https://localhost:8080/",
     "height": 452
    },
    "id": "o7k__GTUfmFM",
    "outputId": "ab7be880-ef9c-4c9d-c919-892e8617352d"
   },
   "outputs": [
    {
     "data": {
      "image/png": "[encoded data removed]",
      "text/plain": [
       "<Figure size 432x288 with 2 Axes>"
      ]
     },
     "metadata": {
      "needs_background": "light"
     },
     "output_type": "display_data"
    }
   ],
   "source": [
    "G = vi(environment, goal)\n",
    "plt.imshow(G, cmap='hot', interpolation='nearest')\n",
    "plt.colorbar()\n",
    "plt.title(\"Optimal Cost-to-Go\")\n",
    "plt.show()"
   ]
  },
  {
   "cell_type": "markdown",
   "metadata": {
    "id": "wIuf9REC7kuM"
   },
   "source": [
    "**Task 1D**  (5 pts) Experiment with different number of iterations. Start with a 1 iteration VI, describe the results\n",
    "obtained and reason why.\n"
   ]
  },
  {
   "cell_type": "markdown",
   "metadata": {
    "id": "FY5oMpIw-rMC"
   },
   "source": [
    "**Comment**  If we run the Value Iteration algorithm with only 1 iteration, the result would not be optimal. Value Iteration is an iterative algorithm that updates the cost-to-go values based on the values of neighboring states. Each iteration refines the cost-to-go estimates until convergence is reached.\n",
    "\n",
    "With only 1 iteration, the algorithm would only make one update to the cost-to-go values based on the neighboring states. This means that the algorithm would not have enough iterations to propagate the values effectively and accurately estimate the optimal cost-to-go for each state.\n",
    "\n",
    "As a result, the obtained cost-to-go values would not accurately represent the true optimal cost-to-go values. The path planning or decision-making based on these values would likely be suboptimal.\n",
    "\n",
    "In summary, running Value Iteration with only 1 iteration would not produce the optimal solution and would not effectively estimate the cost-to-go values. More iterations are needed to refine and converge the cost-to-go estimates towards the true optimal values."
   ]
  },
  {
   "cell_type": "markdown",
   "metadata": {
    "id": "CCUUrTs7-yxU"
   },
   "source": [
    "**Task 2A**  (3 pts) Formulate how to obtain the optimal policy $u^\n",
    "∗ = π_{V I} (x)$ from $G^∗$\n",
    "."
   ]
  },
  {
   "cell_type": "markdown",
   "metadata": {
    "id": "5c5p5FJR_h5e"
   },
   "source": [
    "To obtain the optimal policy from the optimal cost-to-go matrix $G^∗$, we can follow these steps:\n",
    "\n",
    "1. Initialize an empty policy matrix $π$, with the same shape as $G^∗$.\n",
    "\n",
    "2. For each state $(i, j)$ in the environment:\n",
    "   - Initialize an empty list actions_cost.\n",
    "   - For each possible action $u$ in the action_space:\n",
    "     - Compute the new state xnew and the success flag by applying the transition_function with $(i, j)$ and u as inputs.\n",
    "     - If success: Calculate the cost of traversal next_cost as $1.0$ plus the discounted cost-to-go value gamma $* G∗[x_{new}[0], x_{new}[1]]$.\n",
    "     - Append the action-cost pair $(u, next_{cost})$ to the actions_cost list.\n",
    "\n",
    "3. For each state $(i, j)$ in the environment:\n",
    "   - If it is the goal state, set the policy $π[i, j]$ to None.\n",
    "   - If it is not the goal state, set the policy $π[i, j]$ to the action $u$ that minimizes the cost next_cost in the actions_cost list.\n",
    "\n",
    "4. Return the policy $π$, which represents the optimal action to take from each state in order to maximize the expected cumulative reward.\n",
    "\n",
    "In summary, we iterate through each state, find the action that leads to the minimum cost of traversal plus the discounted cost-to-go value, and store it in the policy matrix. The resulting policy matrix provides the optimal action to take from each state to achieve the maximum expected cumulative reward."
   ]
  },
  {
   "cell_type": "markdown",
   "metadata": {
    "id": "WKhFWLjGZSe3"
   },
   "source": [
    "**Task 2B**  . (17 pts) Implement an algorithm to obtain the optimal policy $u^\n",
    "∗$\n",
    "from $G^∗$\n",
    ". This policy can be a table. To\n",
    "test this, start at an initial position and execute the result of your policy and the transition function until\n",
    "you reach the goal. You will upload the video, that should be automatically generated if using the code in\n",
    "run.py."
   ]
  },
  {
   "cell_type": "code",
   "execution_count": 15,
   "metadata": {
    "id": "PDio4RwT0N4F"
   },
   "outputs": [],
   "source": [
    "def policy_vi(environment, G, action_space):\n",
    "    \"\"\"\n",
    "    environment: grid environment\n",
    "    G: optimal cost-to-go function\n",
    "    action_space: list of possible actions\n",
    "    output:\n",
    "    policy: a map from each state x to the best action u to execute\n",
    "    \"\"\"\n",
    "    rows, cols = environment.shape\n",
    "    policy = np.empty(environment.shape, dtype=object)\n",
    "\n",
    "    for i in range(rows):\n",
    "        for j in range(cols):\n",
    "            if environment[i, j] == 1:\n",
    "                policy[i, j] = None\n",
    "            else:\n",
    "                actions_cost = []\n",
    "                for u in action_space:\n",
    "                    xnew, success = transition_function(environment, (i, j), u)\n",
    "                    if success:\n",
    "                        next_cost = 1.0 + G[xnew[0], xnew[1]]\n",
    "                        actions_cost.append((u, next_cost))\n",
    "                min_cost_action = min(actions_cost, key=lambda x: x[1])[0]\n",
    "                policy[i, j] = min_cost_action\n",
    "\n",
    "    return policy"
   ]
  },
  {
   "cell_type": "code",
   "execution_count": 16,
   "metadata": {
    "id": "Sk92WKaM0S94"
   },
   "outputs": [],
   "source": [
    "def execute_policy(policy, x_ini , environment, transition_function):\n",
    "    \"\"\"\n",
    "    policy: the optimal policy obtained\n",
    "    initial_state: the starting state\n",
    "    environment: grid environment\n",
    "    transition_function: function to compute the next state given a state-action pair\n",
    "    output:\n",
    "    traj: a list of states, representing the trajectory taken using the policy\n",
    "    \"\"\"\n",
    "    state = x_ini\n",
    "    traj = [state]\n",
    "    while policy[state[0], state[1]] is not None:\n",
    "        action = policy[state[0], state[1]]\n",
    "        state, success = transition_function(environment, state, action)\n",
    "        if not success:\n",
    "            print(\"Failed to execute action:\", action)\n",
    "            break\n",
    "        traj.append(state)\n",
    "\n",
    "    return traj\n"
   ]
  },
  {
   "cell_type": "code",
   "execution_count": 17,
   "metadata": {
    "id": "ulIUKjJlvk1D"
   },
   "outputs": [],
   "source": [
    "if 0:\n",
    "    fig = plt.figure()\n",
    "    imgs = []\n",
    "    x = x_ini\n",
    "    for plan_iters in range(100):\n",
    "        im = plot_enviroment(environment,x,goal)\n",
    "        plot = plt.imshow(im)\n",
    "        imgs.append([plot])\n",
    "        if x == goal:\n",
    "            print('Goal achieved in iters =', plan_iters)\n",
    "            break\n",
    "    im = plot_enviroment(environment,x,goal)\n",
    "    plot = plt.imshow(im)\n",
    "    imgs.append([plot])\n",
    "    ani = animation.ArtistAnimation(fig, imgs, interval=100, blit=True)\n",
    "    ani.save('plan_vi.mp4')\n",
    "    plt.show()"
   ]
  },
  {
   "cell_type": "code",
   "execution_count": 18,
   "metadata": {
    "id": "0dNzq5elPqEH"
   },
   "outputs": [],
   "source": [
    "import cv2\n",
    "import numpy as np\n",
    "\n",
    "def draw_grid(environment, cell_size):\n",
    "    \"\"\"Draws the grid environment\"\"\"\n",
    "    rows, cols = environment.shape\n",
    "    grid = np.zeros((rows * cell_size, cols * cell_size, 3), dtype=np.uint8)\n",
    "\n",
    "    for i in range(rows):\n",
    "        for j in range(cols):\n",
    "            if environment[i, j] == 1:\n",
    "                color = (0, 255, 0)  # Green color for goal state\n",
    "            elif environment[i, j] == 2:\n",
    "                color = (0, 0, 255)  # Red color for obstacles\n",
    "            else:\n",
    "                color = (255, 255, 255)  # White color for empty cells\n",
    "\n",
    "            grid[i*cell_size: (i+1)*cell_size, j*cell_size: (j+1)*cell_size] = color\n",
    "\n",
    "    return grid"
   ]
  },
  {
   "cell_type": "code",
   "execution_count": 19,
   "metadata": {
    "id": "UWhALGqwnpNP"
   },
   "outputs": [],
   "source": [
    "def visualize_policy(policy, initial_state, environment, transition_function, cell_size=20, delay=500,video_filename=\"output.mp4\"):\n",
    "    \"\"\"\n",
    "    policy: the optimal policy obtained\n",
    "    initial_state: the starting state\n",
    "    environment: grid environment\n",
    "    transition_function: function to compute the next state given a state-action pair\n",
    "    cell_size: size of each cell in pixels\n",
    "    delay: delay between each frame in milliseconds\n",
    "    output:\n",
    "    frame_count: number of frames in the video\n",
    "    \"\"\"\n",
    "    state = initial_state\n",
    "    frames = []\n",
    "    while policy[state[0], state[1]] is not None:\n",
    "        grid = draw_grid(environment, cell_size)\n",
    "        action = policy[state[0], state[1]]\n",
    "        state, success = transition_function(environment, state, action)\n",
    "        if not success:\n",
    "            print(\"Failed to execute action:\", action)\n",
    "            break\n",
    "        x, y = state\n",
    "        cv2.rectangle(grid, (y*cell_size, x*cell_size), ((y+1)*cell_size, (x+1)*cell_size), (0, 0, 255), -1)\n",
    "        frames.append(grid.copy())\n",
    "        cv2.imshow(\"Policy Video\",grid)\n",
    "        if cv2.waitKey(delay) & 0xFF == ord('q'):\n",
    "            break\n",
    "    fourcc = cv2.VideoWriter_fourcc(*\"mp4v\")\n",
    "    out = cv2.Video\n",
    "    cv2.destroyAllWindows()\n",
    "    return len(frames)"
   ]
  },
  {
   "cell_type": "code",
   "execution_count": 20,
   "metadata": {
    "colab": {
     "base_uri": "https://localhost:8080/",
     "height": 1000
    },
    "id": "mYOtOfDfbFr8",
    "outputId": "2676978d-1103-4437-81c5-1dcb1e0c3ffa"
   },
   "outputs": [
    {
     "name": "stdout",
     "output_type": "stream",
     "text": [
      "Total frames: 33\n"
     ]
    }
   ],
   "source": [
    "environment = data['environment']\n",
    "policy = policy_vi(environment, G, action_space)\n",
    "frame_count = visualize_policy(policy, x_ini, environment, transition_function, cell_size=50, delay=1000)\n",
    "print(\"Total frames:\", frame_count)\n"
   ]
  },
  {
   "cell_type": "markdown",
   "metadata": {},
   "source": [
    "**Task 2C** (5 pts) Experiment with different parameters, such as starting points, the order of the states you use in VI (for loops) and the order of the actions. Explain your observations."
   ]
  },
  {
   "cell_type": "code",
   "execution_count": 22,
   "metadata": {},
   "outputs": [],
   "source": [
    "x_ini = (11,6)\n",
    "action_space = [(0, 1), (0, -1), (-1, 0),(1, 0)] \n",
    "goal = (15,29)"
   ]
  },
  {
   "cell_type": "code",
   "execution_count": 23,
   "metadata": {},
   "outputs": [],
   "source": [
    "def transition_function(environment,x,u):\n",
    "    \"\"\"Transition function for states in this problem\n",
    "    x: current state, this is a tuple (i,j)\n",
    "    u: current action, this is a tuple (i,j)\n",
    "    env: enviroment\n",
    "\n",
    "    Output:\n",
    "    new state\n",
    "    True if correctly propagated\n",
    "    False if this action can't be executed\n",
    "    \"\"\"\n",
    "    xnew = np.array(x) + np.array(u)\n",
    "    xnew = tuple(xnew)\n",
    "    if state_consistency_check(environment,xnew):\n",
    "        return xnew, True\n",
    "    return x, False\n",
    "\n",
    "def vi(env, goal, gamma=1.0, epsilon=1e-6, max_iterations=100):\n",
    "    \"\"\"\n",
    "    Value Iteration algorithm for infinite-length sequences.\n",
    "    env: The grid environment.\n",
    "    goal: The goal state as (x, y) coordinates.\n",
    "    gamma: Discount factor.\n",
    "    epsilon: Convergence threshold.\n",
    "    max_iterations: Maximum number of iterations.\n",
    "\n",
    "    Returns the optimal cost-to-go matrix G.\n",
    "    \"\"\"\n",
    "    GRID_SIZE = env.shape\n",
    "    action_space = [(0, 1), (0, -1), (-1, 0),(1, 0)]  \n",
    "    G = np.zeros(GRID_SIZE) \n",
    "    for _ in range(max_iterations):\n",
    "        old_G = np.copy(G)\n",
    "        for i in range(GRID_SIZE[0]):\n",
    "            for j in range(GRID_SIZE[1]):\n",
    "                if (i, j) == goal:\n",
    "                    continue  # Skip the goal state\n",
    "                actions_cost = []\n",
    "                for u in action_space:\n",
    "                    xnew, success = transition_function(env, (i, j), u)\n",
    "                    if success:\n",
    "                        xnew_i, xnew_j = xnew\n",
    "                        next_cost = 1.0  # Cost of traversal\n",
    "                        next_cost += gamma * old_G[xnew_i, xnew_j]  # Future cost-to-go\n",
    "                        actions_cost.append(next_cost)\n",
    "                if actions_cost:\n",
    "                    G[i, j] = np.min(actions_cost)\n",
    "        if np.max(np.abs(G - old_G)) < epsilon:\n",
    "            break\n",
    "    return G"
   ]
  },
  {
   "cell_type": "code",
   "execution_count": 24,
   "metadata": {},
   "outputs": [
    {
     "data": {
      "image/png": "[encoded data removed]",
      "text/plain": [
       "<Figure size 432x288 with 2 Axes>"
      ]
     },
     "metadata": {
      "needs_background": "light"
     },
     "output_type": "display_data"
    }
   ],
   "source": [
    "G = vi(environment, goal)\n",
    "plt.imshow(G, cmap='hot', interpolation='nearest')\n",
    "plt.colorbar()\n",
    "plt.title(\"Optimal Cost-to-Go\")\n",
    "plt.show()"
   ]
  },
  {
   "cell_type": "code",
   "execution_count": 25,
   "metadata": {},
   "outputs": [],
   "source": [
    "def policy_vi(environment, G, action_space):\n",
    "    \"\"\"\n",
    "    environment: grid environment\n",
    "    G: optimal cost-to-go function\n",
    "    action_space: list of possible actions\n",
    "    output:\n",
    "    policy: a map from each state x to the best action u to execute\n",
    "    \"\"\"\n",
    "    cols, rows = environment.shape\n",
    "    policy = np.empty(environment.shape, dtype=object)\n",
    "\n",
    "    for i in range(cols):\n",
    "        for j in range(rows):\n",
    "            if environment[i, j] == 1:\n",
    "                policy[i, j] = None\n",
    "            else:\n",
    "                actions_cost = []\n",
    "                for u in action_space:\n",
    "                    xnew, success = transition_function(environment, (i, j), u)\n",
    "                    if success:\n",
    "                        next_cost = 1.0 + G[xnew[0], xnew[1]]\n",
    "                        actions_cost.append((u, next_cost))\n",
    "                min_cost_action = min(actions_cost, key=lambda x: x[1])[0]\n",
    "                policy[i, j] = min_cost_action\n",
    "\n",
    "    return policy"
   ]
  },
  {
   "cell_type": "code",
   "execution_count": 26,
   "metadata": {},
   "outputs": [],
   "source": [
    "def execute_policy(policy, x_ini , environment, transition_function):\n",
    "    \"\"\"\n",
    "    policy: the optimal policy obtained\n",
    "    initial_state: the starting state\n",
    "    environment: grid environment\n",
    "    transition_function: function to compute the next state given a state-action pair\n",
    "    output:\n",
    "    traj: a list of states, representing the trajectory taken using the policy\n",
    "    \"\"\"\n",
    "    state = x_ini\n",
    "    traj = [state]\n",
    "    while policy[state[0], state[1]] is not None:\n",
    "        action = policy[state[0], state[1]]\n",
    "        state, success = transition_function(environment, state, action)\n",
    "        if not success:\n",
    "            print(\"Failed to execute action:\", action)\n",
    "            break\n",
    "        traj.append(state)\n",
    "\n",
    "    return traj\n"
   ]
  },
  {
   "cell_type": "code",
   "execution_count": 27,
   "metadata": {},
   "outputs": [],
   "source": [
    "if 0:\n",
    "    fig = plt.figure()\n",
    "    imgs = []\n",
    "    x = x_ini\n",
    "    for plan_iters in range(100):\n",
    "        im = plot_enviroment(environment,x,goal)\n",
    "        plot = plt.imshow(im)\n",
    "        imgs.append([plot])\n",
    "        if x == goal:\n",
    "            print('Goal achieved in iters =', plan_iters)\n",
    "            break\n",
    "    im = plot_enviroment(environment,x,goal)\n",
    "    plot = plt.imshow(im)\n",
    "    imgs.append([plot])\n",
    "    ani = animation.ArtistAnimation(fig, imgs, interval=100, blit=True)\n",
    "    ani.save('plan_vi.mp4')\n",
    "    plt.show()"
   ]
  },
  {
   "cell_type": "code",
   "execution_count": 28,
   "metadata": {},
   "outputs": [],
   "source": [
    "import cv2\n",
    "import numpy as np\n",
    "\n",
    "def draw_grid(environment, cell_size):\n",
    "    \"\"\"Draws the grid environment\"\"\"\n",
    "    cols, rows = environment.shape\n",
    "    grid = np.zeros((cols * cell_size, rows * cell_size, 3), dtype=np.uint8)\n",
    "\n",
    "    for i in range(cols):\n",
    "        for j in range(rows):\n",
    "            if environment[i, j] == 1:\n",
    "                color = (0, 255, 0)  # Green color for goal state\n",
    "            elif environment[i, j] == 2:\n",
    "                color = (0, 0, 255)  # Red color for obstacles\n",
    "            else:\n",
    "                color = (255, 255, 255)  # White color for empty cells\n",
    "\n",
    "            grid[i*cell_size: (i+1)*cell_size, j*cell_size: (j+1)*cell_size] = color\n",
    "\n",
    "    return grid"
   ]
  },
  {
   "cell_type": "code",
   "execution_count": 29,
   "metadata": {},
   "outputs": [],
   "source": [
    "def visualize_policy(policy, initial_state, environment, transition_function, cell_size=20, delay=500,video_filename=\"output.mp4\"):\n",
    "    \"\"\"\n",
    "    policy: the optimal policy obtained\n",
    "    initial_state: the starting state\n",
    "    environment: grid environment\n",
    "    transition_function: function to compute the next state given a state-action pair\n",
    "    cell_size: size of each cell in pixels\n",
    "    delay: delay between each frame in milliseconds\n",
    "    output:\n",
    "    frame_count: number of frames in the video\n",
    "    \"\"\"\n",
    "    state = initial_state\n",
    "    frames = []\n",
    "    while policy[state[0], state[1]] is not None:\n",
    "        grid = draw_grid(environment, cell_size)\n",
    "        action = policy[state[0], state[1]]\n",
    "        state, success = transition_function(environment, state, action)\n",
    "        if not success:\n",
    "            print(\"Failed to execute action:\", action)\n",
    "            break\n",
    "        y, x = state\n",
    "        cv2.rectangle(grid, (x*cell_size, y*cell_size), ((x+1)*cell_size, (y+1)*cell_size), (0, 0, 255), -1)\n",
    "        frames.append(grid.copy())\n",
    "        cv2.imshow(\"Policy Video\",grid)\n",
    "        if cv2.waitKey(delay) & 0xFF == ord('q'):\n",
    "            break\n",
    "    fourcc = cv2.VideoWriter_fourcc(*\"mp4v\")\n",
    "    out = cv2.Video\n",
    "    cv2.destroyAllWindows()\n",
    "    return len(frames)"
   ]
  },
  {
   "cell_type": "code",
   "execution_count": 30,
   "metadata": {},
   "outputs": [
    {
     "ename": "AttributeError",
     "evalue": "module 'cv2' has no attribute 'Video'",
     "output_type": "error",
     "traceback": [
      "\u001b[1;31m---------------------------------------------------------------------------\u001b[0m",
      "\u001b[1;31mAttributeError\u001b[0m                            Traceback (most recent call last)",
      "\u001b[1;32m~\\AppData\\Local\\Temp/ipykernel_44592/1186175200.py\u001b[0m in \u001b[0;36m<module>\u001b[1;34m\u001b[0m\n\u001b[0;32m      1\u001b[0m \u001b[0menvironment\u001b[0m \u001b[1;33m=\u001b[0m \u001b[0mdata\u001b[0m\u001b[1;33m[\u001b[0m\u001b[1;34m'environment'\u001b[0m\u001b[1;33m]\u001b[0m\u001b[1;33m\u001b[0m\u001b[1;33m\u001b[0m\u001b[0m\n\u001b[0;32m      2\u001b[0m \u001b[0mpolicy\u001b[0m \u001b[1;33m=\u001b[0m \u001b[0mpolicy_vi\u001b[0m\u001b[1;33m(\u001b[0m\u001b[0menvironment\u001b[0m\u001b[1;33m,\u001b[0m \u001b[0mG\u001b[0m\u001b[1;33m,\u001b[0m \u001b[0maction_space\u001b[0m\u001b[1;33m)\u001b[0m\u001b[1;33m\u001b[0m\u001b[1;33m\u001b[0m\u001b[0m\n\u001b[1;32m----> 3\u001b[1;33m \u001b[0mframe_count\u001b[0m \u001b[1;33m=\u001b[0m \u001b[0mvisualize_policy\u001b[0m\u001b[1;33m(\u001b[0m\u001b[0mpolicy\u001b[0m\u001b[1;33m,\u001b[0m \u001b[0mx_ini\u001b[0m\u001b[1;33m,\u001b[0m \u001b[0menvironment\u001b[0m\u001b[1;33m,\u001b[0m \u001b[0mtransition_function\u001b[0m\u001b[1;33m,\u001b[0m \u001b[0mcell_size\u001b[0m\u001b[1;33m=\u001b[0m\u001b[1;36m50\u001b[0m\u001b[1;33m,\u001b[0m \u001b[0mdelay\u001b[0m\u001b[1;33m=\u001b[0m\u001b[1;36m1000\u001b[0m\u001b[1;33m)\u001b[0m\u001b[1;33m\u001b[0m\u001b[1;33m\u001b[0m\u001b[0m\n\u001b[0m\u001b[0;32m      4\u001b[0m \u001b[0mprint\u001b[0m\u001b[1;33m(\u001b[0m\u001b[1;34m\"Total frames:\"\u001b[0m\u001b[1;33m,\u001b[0m \u001b[0mframe_count\u001b[0m\u001b[1;33m)\u001b[0m\u001b[1;33m\u001b[0m\u001b[1;33m\u001b[0m\u001b[0m\n",
      "\u001b[1;32m~\\AppData\\Local\\Temp/ipykernel_44592/2156173707.py\u001b[0m in \u001b[0;36mvisualize_policy\u001b[1;34m(policy, initial_state, environment, transition_function, cell_size, delay, video_filename)\u001b[0m\n\u001b[0;32m     26\u001b[0m             \u001b[1;32mbreak\u001b[0m\u001b[1;33m\u001b[0m\u001b[1;33m\u001b[0m\u001b[0m\n\u001b[0;32m     27\u001b[0m     \u001b[0mfourcc\u001b[0m \u001b[1;33m=\u001b[0m \u001b[0mcv2\u001b[0m\u001b[1;33m.\u001b[0m\u001b[0mVideoWriter_fourcc\u001b[0m\u001b[1;33m(\u001b[0m\u001b[1;33m*\u001b[0m\u001b[1;34m\"mp4v\"\u001b[0m\u001b[1;33m)\u001b[0m\u001b[1;33m\u001b[0m\u001b[1;33m\u001b[0m\u001b[0m\n\u001b[1;32m---> 28\u001b[1;33m     \u001b[0mout\u001b[0m \u001b[1;33m=\u001b[0m \u001b[0mcv2\u001b[0m\u001b[1;33m.\u001b[0m\u001b[0mVideo\u001b[0m\u001b[1;33m\u001b[0m\u001b[1;33m\u001b[0m\u001b[0m\n\u001b[0m\u001b[0;32m     29\u001b[0m     \u001b[0mcv2\u001b[0m\u001b[1;33m.\u001b[0m\u001b[0mdestroyAllWindows\u001b[0m\u001b[1;33m(\u001b[0m\u001b[1;33m)\u001b[0m\u001b[1;33m\u001b[0m\u001b[1;33m\u001b[0m\u001b[0m\n\u001b[0;32m     30\u001b[0m     \u001b[1;32mreturn\u001b[0m \u001b[0mlen\u001b[0m\u001b[1;33m(\u001b[0m\u001b[0mframes\u001b[0m\u001b[1;33m)\u001b[0m\u001b[1;33m\u001b[0m\u001b[1;33m\u001b[0m\u001b[0m\n",
      "\u001b[1;31mAttributeError\u001b[0m: module 'cv2' has no attribute 'Video'"
     ]
    }
   ],
   "source": [
    "environment = data['environment']\n",
    "policy = policy_vi(environment, G, action_space)\n",
    "frame_count = visualize_policy(policy, x_ini, environment, transition_function, cell_size=50, delay=1000)\n",
    "print(\"Total frames:\", frame_count)"
   ]
  },
  {
   "cell_type": "markdown",
   "metadata": {},
   "source": [
    "**Observations:**\n",
    "\n",
    "1. Starting Points: By changing the starting point, you can observe different trajectories being generated by executing the policy. The trajectory will follow the optimal path determined by the Value Iteration algorithm from the new starting point to the goal state.\n",
    "\n",
    "2. Order of States: The order in which the states are visited during the Value Iteration algorithm does not affect the final optimal cost-to-go or policy since all states are iteratively updated based on their neighbors' values. The algorithm will converge to the same solution regardless of the order in which the states are processed.\n",
    "\n",
    "3. Order of Actions: The order in which the actions are considered during the Value Iteration algorithm can have a slight impact on the convergence speed, but it should not affect the final solution significantly. Changing the order of actions in each state affects the exploration of the state-action space, potentially leading to different convergence rates or slightly different policies.\n",
    "\n",
    "Overall, the provided code implements the Value Iteration algorithm, extracts the optimal policy, and allows for experiments with different starting points, state orders, and action orders. These experiments help understand how these parameters can impact the trajectories and convergence rates of the algorithm in different scenarios."
   ]
  },
  {
   "cell_type": "markdown",
   "metadata": {},
   "source": [
    "**Task 3A** (3 pts) Formulate the optimal value function $v_∗(x)$ in recursive form."
   ]
  },
  {
   "cell_type": "markdown",
   "metadata": {},
   "source": [
    "The optimal value function in recursive form can be formulated as follows:\n",
    "\n",
    "$v_∗(x) = max(u(x, a) + βv_∗(f(x, a)))$\n",
    "\n",
    "where:\n",
    "- $v_∗(x)$ is the optimal value function for state $x$\n",
    "- $u(x, a)$ is the immediate reward function for taking action $a$ in state $x$\n",
    "- $f(x, a)$ is the transition function that returns the next state given current state $x$ and action $a$\n",
    "- $β$ is the discount factor that represents the importance of future rewards\n",
    "\n",
    "In this formulation, we take the maximum value of the immediate reward plus the discounted future value for each possible action $a$, and we recursively calculate the optimal value function for the next state $f(x, a)$ until we reach a terminal state. The optimal value function $v_∗(x)$ represents the maximum expected cumulative reward that can be obtained starting from state $x$."
   ]
  },
  {
   "cell_type": "markdown",
   "metadata": {},
   "source": [
    "**Task 3B**  (2 pts) Formulate how to obtain the greedy deterministic policy $u^∗$ = $π_{MDP}(x)$ from $v_∗(x)$"
   ]
  },
  {
   "cell_type": "markdown",
   "metadata": {},
   "source": [
    "To obtain the greedy deterministic policy $u^∗$ = $π_{MDP} (x)$ from v_∗(x), we need to select the action $a$ in each state $x$ that maximizes the expression:\n",
    "\n",
    "$u(x, a)$ + $βv_∗(f(x, a))$\n",
    "\n",
    "In other words, the greedy policy chooses the action that yields the highest immediate reward plus the discounted future value. \n",
    "\n",
    "For each state $x$, we evaluate this expression for all possible actions $a$ and select the action that gives the maximum value. This action is then chosen as the policy for that state, resulting in a deterministic policy $u^∗$.\n",
    "\n",
    "In mathematical notation, the greedy deterministic policy $u^∗$ = $π_{MDP} (x)$ can be formulated as:\n",
    "\n",
    "$u^∗(x) = argmax(u(x, a) + βv∗(f(x, a)))$\n",
    "\n",
    "where argmax is the function that returns the argument that maximizes the expression. This formulation ensures that the policy $u^∗$ selects the action that leads to the highest expected cumulative reward based on the optimal value function $v_∗$."
   ]
  },
  {
   "cell_type": "code",
   "execution_count": null,
   "metadata": {},
   "outputs": [],
   "source": []
  }
 ],
 "metadata": {
  "colab": {
   "provenance": []
  },
  "kernelspec": {
   "display_name": "Python 3 (ipykernel)",
   "language": "python",
   "name": "python3"
  },
  "language_info": {
   "codemirror_mode": {
    "name": "ipython",
    "version": 3
   },
   "file_extension": ".py",
   "mimetype": "text/x-python",
   "name": "python",
   "nbconvert_exporter": "python",
   "pygments_lexer": "ipython3",
   "version": "3.9.7"
  }
 },
 "nbformat": 4,
 "nbformat_minor": 1
}
